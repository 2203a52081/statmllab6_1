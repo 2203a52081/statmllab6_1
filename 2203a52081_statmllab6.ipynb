{
  "nbformat": 4,
  "nbformat_minor": 0,
  "metadata": {
    "colab": {
      "provenance": []
    },
    "kernelspec": {
      "name": "python3",
      "display_name": "Python 3"
    },
    "language_info": {
      "name": "python"
    }
  },
  "cells": [
    {
      "cell_type": "code",
      "source": [
        "import numpy as np\n",
        "import pandas as pd\n",
        "import matplotlib.pyplot as plt\n",
        "from sklearn.preprocessing import MinMaxScaler\n",
        "from sklearn.model_selection import train_test_split\n",
        "from sklearn.linear_model import LinearRegression\n",
        "from sklearn.metrics import mean_squared_error,mean_absolute_error\n",
        "\n",
        "data = pd.read_csv('/content/Japan_life_expectancy.csv')\n",
        "\n",
        "features = data.drop('Prefecture', axis=1)\n",
        "features = features.drop('Life_expectancy', axis=1)\n",
        "target = data['Life_expectancy']\n",
        "scaler = MinMaxScaler()\n",
        "features_scaled = scaler.fit_transform(features)\n",
        "X_train, X_test, y_train, y_test = train_test_split(features_scaled, target, test_size=0.3, random_state=42)\n",
        "lr = LinearRegression()\n",
        "lr.fit(X_train, y_train)\n",
        "coef = lr.coef_\n",
        "intercept = lr.intercept_\n",
        "y_pred = lr.predict(X_test)\n",
        "mse = mean_squared_error(y_test, y_pred)\n",
        "print(f\"(Test)Mean Squared Error: {mse}\")\n",
        "\n",
        "\n",
        "y_pred = lr.predict(X_train)\n",
        "mse = mean_squared_error(y_train, y_pred)\n",
        "print(f\"(Train)Mean Squared Error: {mse}\")"
      ],
      "metadata": {
        "colab": {
          "base_uri": "https://localhost:8080/"
        },
        "id": "xkigUwmR2B1h",
        "outputId": "79bc28ff-0085-44e5-b65f-08948822c9ff"
      },
      "execution_count": 17,
      "outputs": [
        {
          "output_type": "stream",
          "name": "stdout",
          "text": [
            "(Test)Mean Squared Error: 0.9082052658013764\n",
            "(Train)Mean Squared Error: 0.03517304474330922\n"
          ]
        }
      ]
    },
    {
      "cell_type": "code",
      "source": [
        "from sklearn.linear_model import Ridge\n",
        "import numpy as np\n",
        "ridge = Ridge()\n",
        "ridge.fit(features,target)\n",
        "penalty = np.sum(ridge.coef_ ** 2) * alpha\n",
        "print(f\"Penalty (L2 Regularization Term): {penalty}\")\n",
        "\n",
        "ridge = Ridge()\n",
        "ridge.fit(X_train, y_train)\n",
        "y_pred = ridge.predict(X_test)\n",
        "mse = mean_squared_error(y_test, y_pred)\n",
        "print(f\"Mean Squared Error with Lasso Regression: {mse}\")\n",
        "\n",
        "\n",
        "y_pred = ridge.predict(X_train)\n",
        "mse = mean_squared_error(y_train, y_pred)\n",
        "print(f\"(Training)Mean Squared Error with Lasso Regression: {mse}\")\n"
      ],
      "metadata": {
        "colab": {
          "base_uri": "https://localhost:8080/"
        },
        "id": "3m1HcofZ3OD3",
        "outputId": "c6c8dade-79dd-4be7-d501-b8d067fd751b"
      },
      "execution_count": 18,
      "outputs": [
        {
          "output_type": "stream",
          "name": "stdout",
          "text": [
            "Penalty (L2 Regularization Term): 0.02058690078860135\n",
            "Mean Squared Error with Lasso Regression: 0.16702011243291942\n",
            "(Training)Mean Squared Error with Lasso Regression: 0.07361490884391368\n"
          ]
        }
      ]
    },
    {
      "cell_type": "code",
      "source": [
        "from sklearn.linear_model import Lasso\n",
        "\n",
        "lasso = Lasso()\n",
        "lasso.fit(features, target)\n",
        "penalty = np.sum(np.abs(lasso.coef_)) * alpha\n",
        "print(f\"Penalty (L1 Regularization Term): {penalty}\")\n",
        "\n",
        "\n",
        "lasso = Lasso()\n",
        "lasso.fit(X_train, y_train)\n",
        "y_pred = lasso.predict(X_test)\n",
        "mse = mean_squared_error(y_test, y_pred)\n",
        "print(f\"Mean Squared Error with Lasso Regression: {mse}\")\n",
        "\n",
        "\n",
        "y_pred = lasso.predict(X_train)\n",
        "mse = mean_squared_error(y_train, y_pred)\n",
        "print(f\"(Training)Mean Squared Error with Lasso Regression: {mse}\")"
      ],
      "metadata": {
        "colab": {
          "base_uri": "https://localhost:8080/"
        },
        "id": "qX826er-3-II",
        "outputId": "3070bc82-1f8a-4d3e-d248-1fa8354a1803"
      },
      "execution_count": 19,
      "outputs": [
        {
          "output_type": "stream",
          "name": "stdout",
          "text": [
            "Penalty (L1 Regularization Term): 0.021642621843972275\n",
            "Mean Squared Error with Lasso Regression: 0.1456423372395852\n",
            "(Training)Mean Squared Error with Lasso Regression: 0.29817412109374986\n"
          ]
        }
      ]
    }
  ]
}